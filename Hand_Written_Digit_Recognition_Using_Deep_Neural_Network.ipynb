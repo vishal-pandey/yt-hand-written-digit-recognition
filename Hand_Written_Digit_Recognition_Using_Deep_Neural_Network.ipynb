{
  "nbformat": 4,
  "nbformat_minor": 0,
  "metadata": {
    "colab": {
      "name": "Hand Written Digit Recognition Using Deep Neural Network.ipynb",
      "provenance": [],
      "authorship_tag": "ABX9TyPS+h3v/PowvCMja2MUtKPg",
      "include_colab_link": true
    },
    "kernelspec": {
      "name": "python3",
      "display_name": "Python 3"
    }
  },
  "cells": [
    {
      "cell_type": "markdown",
      "metadata": {
        "id": "view-in-github",
        "colab_type": "text"
      },
      "source": [
        "<a href=\"https://colab.research.google.com/github/vishal-pandey/yt-hand-written-digit-recognition/blob/master/Hand_Written_Digit_Recognition_Using_Deep_Neural_Network.ipynb\" target=\"_parent\"><img src=\"https://colab.research.google.com/assets/colab-badge.svg\" alt=\"Open In Colab\"/></a>"
      ]
    },
    {
      "cell_type": "code",
      "metadata": {
        "id": "WjXh3gJ9WYKG",
        "colab_type": "code",
        "colab": {}
      },
      "source": [
        "import numpy as np\n",
        "import matplotlib.pyplot as plt\n",
        "import pandas as pd"
      ],
      "execution_count": 0,
      "outputs": []
    },
    {
      "cell_type": "code",
      "metadata": {
        "id": "unbASelJWyuv",
        "colab_type": "code",
        "colab": {}
      },
      "source": [
        "df_train = pd.read_csv('sample_data/mnist_train_small.csv')\n",
        "df_test = pd.read_csv('sample_data/mnist_test.csv')"
      ],
      "execution_count": 0,
      "outputs": []
    },
    {
      "cell_type": "code",
      "metadata": {
        "id": "JvPmep1AXGkm",
        "colab_type": "code",
        "colab": {}
      },
      "source": [
        "X_train = df_train.iloc[:, 1:].values/255\n",
        "y_train = df_train.iloc[:, :1].values"
      ],
      "execution_count": 0,
      "outputs": []
    },
    {
      "cell_type": "code",
      "metadata": {
        "id": "nme7jZzZXcJD",
        "colab_type": "code",
        "colab": {}
      },
      "source": [
        "X_test = df_test.iloc[:, 1:].values/255\n",
        "y_test = df_test.iloc[:, :1].values"
      ],
      "execution_count": 0,
      "outputs": []
    },
    {
      "cell_type": "code",
      "metadata": {
        "id": "kJun_p-NXjdt",
        "colab_type": "code",
        "colab": {}
      },
      "source": [
        "from sklearn.preprocessing import OneHotEncoder"
      ],
      "execution_count": 0,
      "outputs": []
    },
    {
      "cell_type": "code",
      "metadata": {
        "id": "TIDCW63DX9Tz",
        "colab_type": "code",
        "colab": {}
      },
      "source": [
        "y_train = OneHotEncoder().fit_transform(y_train).toarray()\n",
        "y_test = OneHotEncoder().fit_transform(y_test).toarray()"
      ],
      "execution_count": 0,
      "outputs": []
    },
    {
      "cell_type": "code",
      "metadata": {
        "id": "jCbi8pYsYNml",
        "colab_type": "code",
        "outputId": "6c47ff60-a987-4d54-c950-f1cc74164872",
        "colab": {
          "base_uri": "https://localhost:8080/",
          "height": 265
        }
      },
      "source": [
        "plt.imshow(X_train[0].reshape(28, 28))\n",
        "plt.show()"
      ],
      "execution_count": 0,
      "outputs": [
        {
          "output_type": "display_data",
          "data": {
            "image/png": "[encoded data removed]",
            "text/plain": [
              "<Figure size 432x288 with 1 Axes>"
            ]
          },
          "metadata": {
            "tags": []
          }
        }
      ]
    },
    {
      "cell_type": "code",
      "metadata": {
        "id": "TTCfrAj-Yt9-",
        "colab_type": "code",
        "colab": {}
      },
      "source": [
        "from keras.models import Sequential\n",
        "from keras.layers import Dense"
      ],
      "execution_count": 0,
      "outputs": []
    },
    {
      "cell_type": "code",
      "metadata": {
        "id": "3BX2OeJGZgr9",
        "colab_type": "code",
        "outputId": "1831d84f-e5bd-466a-9c97-b3d9e4b972f3",
        "colab": {
          "base_uri": "https://localhost:8080/",
          "height": 71
        }
      },
      "source": [
        "model = Sequential()\n",
        "model.add(Dense(56, activation='relu'))\n",
        "model.add(Dense(10, activation='softmax'))\n"
      ],
      "execution_count": 0,
      "outputs": [
        {
          "output_type": "stream",
          "text": [
            "WARNING:tensorflow:From /usr/local/lib/python3.6/dist-packages/keras/backend/tensorflow_backend.py:66: The name tf.get_default_graph is deprecated. Please use tf.compat.v1.get_default_graph instead.\n",
            "\n"
          ],
          "name": "stdout"
        }
      ]
    },
    {
      "cell_type": "code",
      "metadata": {
        "id": "gErPSEyKaAMm",
        "colab_type": "code",
        "outputId": "74948009-c0de-46da-d676-9199db565d2c",
        "colab": {
          "base_uri": "https://localhost:8080/",
          "height": 71
        }
      },
      "source": [
        "model.compile(optimizer='adam', loss='mse', metrics=['accuracy'])"
      ],
      "execution_count": 0,
      "outputs": [
        {
          "output_type": "stream",
          "text": [
            "WARNING:tensorflow:From /usr/local/lib/python3.6/dist-packages/keras/optimizers.py:793: The name tf.train.Optimizer is deprecated. Please use tf.compat.v1.train.Optimizer instead.\n",
            "\n"
          ],
          "name": "stdout"
        }
      ]
    },
    {
      "cell_type": "code",
      "metadata": {
        "id": "IRyKFIpmaLfF",
        "colab_type": "code",
        "outputId": "40a10813-8d86-4e60-d0b8-f719606460dd",
        "colab": {
          "base_uri": "https://localhost:8080/",
          "height": 683
        }
      },
      "source": [
        "model.fit(X_train, y_train, epochs=10, validation_data=(X_test, y_test))"
      ],
      "execution_count": 0,
      "outputs": [
        {
          "output_type": "stream",
          "text": [
            "WARNING:tensorflow:From /usr/local/lib/python3.6/dist-packages/keras/backend/tensorflow_backend.py:1033: The name tf.assign_add is deprecated. Please use tf.compat.v1.assign_add instead.\n",
            "\n",
            "WARNING:tensorflow:From /usr/local/lib/python3.6/dist-packages/keras/backend/tensorflow_backend.py:1020: The name tf.assign is deprecated. Please use tf.compat.v1.assign instead.\n",
            "\n",
            "WARNING:tensorflow:From /usr/local/lib/python3.6/dist-packages/keras/backend/tensorflow_backend.py:3005: The name tf.Session is deprecated. Please use tf.compat.v1.Session instead.\n",
            "\n",
            "Train on 19999 samples, validate on 9999 samples\n",
            "Epoch 1/10\n",
            "WARNING:tensorflow:From /usr/local/lib/python3.6/dist-packages/keras/backend/tensorflow_backend.py:190: The name tf.get_default_session is deprecated. Please use tf.compat.v1.get_default_session instead.\n",
            "\n",
            "WARNING:tensorflow:From /usr/local/lib/python3.6/dist-packages/keras/backend/tensorflow_backend.py:197: The name tf.ConfigProto is deprecated. Please use tf.compat.v1.ConfigProto instead.\n",
            "\n",
            "WARNING:tensorflow:From /usr/local/lib/python3.6/dist-packages/keras/backend/tensorflow_backend.py:207: The name tf.global_variables is deprecated. Please use tf.compat.v1.global_variables instead.\n",
            "\n",
            "WARNING:tensorflow:From /usr/local/lib/python3.6/dist-packages/keras/backend/tensorflow_backend.py:216: The name tf.is_variable_initialized is deprecated. Please use tf.compat.v1.is_variable_initialized instead.\n",
            "\n",
            "WARNING:tensorflow:From /usr/local/lib/python3.6/dist-packages/keras/backend/tensorflow_backend.py:223: The name tf.variables_initializer is deprecated. Please use tf.compat.v1.variables_initializer instead.\n",
            "\n",
            "19999/19999 [==============================] - 2s 114us/step - loss: 0.0206 - acc: 0.8675 - val_loss: 0.0128 - val_acc: 0.9164\n",
            "Epoch 2/10\n",
            "19999/19999 [==============================] - 2s 85us/step - loss: 0.0112 - acc: 0.9288 - val_loss: 0.0112 - val_acc: 0.9272\n",
            "Epoch 3/10\n",
            "19999/19999 [==============================] - 2s 86us/step - loss: 0.0088 - acc: 0.9450 - val_loss: 0.0089 - val_acc: 0.9426\n",
            "Epoch 4/10\n",
            "19999/19999 [==============================] - 2s 82us/step - loss: 0.0072 - acc: 0.9560 - val_loss: 0.0089 - val_acc: 0.9435\n",
            "Epoch 5/10\n",
            "19999/19999 [==============================] - 2s 80us/step - loss: 0.0062 - acc: 0.9621 - val_loss: 0.0075 - val_acc: 0.9517\n",
            "Epoch 6/10\n",
            "19999/19999 [==============================] - 2s 82us/step - loss: 0.0054 - acc: 0.9678 - val_loss: 0.0073 - val_acc: 0.9514\n",
            "Epoch 7/10\n",
            "19999/19999 [==============================] - 2s 82us/step - loss: 0.0047 - acc: 0.9720 - val_loss: 0.0074 - val_acc: 0.9522\n",
            "Epoch 8/10\n",
            "19999/19999 [==============================] - 2s 83us/step - loss: 0.0042 - acc: 0.9750 - val_loss: 0.0065 - val_acc: 0.9575\n",
            "Epoch 9/10\n",
            "19999/19999 [==============================] - 2s 81us/step - loss: 0.0037 - acc: 0.9790 - val_loss: 0.0070 - val_acc: 0.9544\n",
            "Epoch 10/10\n",
            "19999/19999 [==============================] - 2s 82us/step - loss: 0.0033 - acc: 0.9818 - val_loss: 0.0065 - val_acc: 0.9591\n"
          ],
          "name": "stdout"
        },
        {
          "output_type": "execute_result",
          "data": {
            "text/plain": [
              "<keras.callbacks.History at 0x7f13f2952eb8>"
            ]
          },
          "metadata": {
            "tags": []
          },
          "execution_count": 36
        }
      ]
    },
    {
      "cell_type": "code",
      "metadata": {
        "id": "IRCXsm9vbBRo",
        "colab_type": "code",
        "colab": {}
      },
      "source": [
        ""
      ],
      "execution_count": 0,
      "outputs": []
    }
  ]
}